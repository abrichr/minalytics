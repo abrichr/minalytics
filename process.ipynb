{
 "cells": [
  {
   "cell_type": "code",
   "execution_count": 26,
   "metadata": {},
   "outputs": [
    {
     "name": "stdout",
     "output_type": "stream",
     "text": [
      "The autoreload extension is already loaded. To reload it, use:\n",
      "  %reload_ext autoreload\n",
      "exception: attempted relative import with no known parent package\n",
      "Exception creating cache: [Errno 79] Inappropriate file type or format\n"
     ]
    },
    {
     "name": "stderr",
     "output_type": "stream",
     "text": [
      "Exception ignored in: <bound method Cache.__del__ of <percache.Cache object at 0x1a2afe32b0>>\n",
      "Traceback (most recent call last):\n",
      "  File \"/Users/feras/Dev/anaconda3/envs/mine/lib/python3.6/site-packages/percache.py\", line 129, in __del__\n",
      "    self.close()\n",
      "  File \"/Users/feras/Dev/anaconda3/envs/mine/lib/python3.6/site-packages/percache.py\", line 134, in close\n",
      "    self.__cache.close()\n",
      "AttributeError: 'Cache' object has no attribute '_Cache__cache'\n"
     ]
    }
   ],
   "source": [
    "%load_ext autoreload\n",
    "%autoreload 2\n",
    "%matplotlib inline\n",
    "import numpy as np\n",
    "import pandas as pd\n",
    "import matplotlib as plt\n",
    "import geopandas as gpd\n",
    "from common import *\n",
    "from gdal_grid import *\n",
    "from sklearn.feature_extraction.image import *"
   ]
  },
  {
   "cell_type": "code",
   "execution_count": 15,
   "metadata": {},
   "outputs": [],
   "source": [
    "DATA_PATH = '.raw_data/'\n",
    "SNL_CSV = 'snlworkbook_Combined_fixed.csv'\n",
    "SNL_XLS = 'snlworkbook_Combined_fixed.xls'\n",
    "MAG_FILE = f'{DATA_PATH}/Canada - 200m - MAG - Residual Total Field - Composante residuelle.grd.gxf'"
   ]
  },
  {
   "cell_type": "code",
   "execution_count": 16,
   "metadata": {},
   "outputs": [
    {
     "name": "stderr",
     "output_type": "stream",
     "text": [
      "/Users/feras/Dev/anaconda3/envs/mine/lib/python3.6/site-packages/IPython/core/interactiveshell.py:2785: DtypeWarning: Columns (16,31) have mixed types. Specify dtype option on import or set low_memory=False.\n",
      "  interactivity=interactivity, compiler=compiler, result=result)\n"
     ]
    }
   ],
   "source": [
    "df = pd.read_csv(f'{DATA_PATH}/{SNL_CSV}')"
   ]
  },
  {
   "cell_type": "code",
   "execution_count": 17,
   "metadata": {},
   "outputs": [
    {
     "data": {
      "text/plain": [
       "Index(['a', 'GEPHYSICS SURVEY 1', 'Property Name', 'Property ID',\n",
       "       'Primary Commodity', 'Development Stage', 'Activity Status',\n",
       "       'List of Commodities', 'Commodity 1', 'Commodity 2',\n",
       "       ...\n",
       "       'Pre-Tax IRR % - High Case Study 1 (%)',\n",
       "       'Post-Tax IRR % - High Case Study 1 (%)',\n",
       "       'Payback Period (Years) - High Case Study 1 (years)',\n",
       "       'Pre-Tax NPV - Low Case Study 1 (Reported)',\n",
       "       'Post-Tax NPV - Low Case Study 1 (Reported)',\n",
       "       'NPV Discount % - Low Case Study 1 (%)',\n",
       "       'Life of Mine Cash Flow - Low Case Study 1 (Reported)',\n",
       "       'Pre-Tax IRR% - Low Case Study 1 (%)',\n",
       "       'Post-Tax IRR% - Low Case Study 1 (%)',\n",
       "       'Payback Period (Years) - Low Case Study 1 (years)'],\n",
       "      dtype='object', length=190)"
      ]
     },
     "execution_count": 17,
     "metadata": {},
     "output_type": "execute_result"
    }
   ],
   "source": [
    "df.columns"
   ]
  },
  {
   "cell_type": "code",
   "execution_count": 18,
   "metadata": {},
   "outputs": [],
   "source": [
    "grid = GDALGrid(MAG_FILE)"
   ]
  },
  {
   "cell_type": "code",
   "execution_count": 19,
   "metadata": {},
   "outputs": [
    {
     "data": {
      "text/plain": [
       "(24165, 32198)"
      ]
     },
     "execution_count": 19,
     "metadata": {},
     "output_type": "execute_result"
    }
   ],
   "source": [
    "grid.arr.shape"
   ]
  },
  {
   "cell_type": "code",
   "execution_count": 32,
   "metadata": {},
   "outputs": [],
   "source": [
    "x = -119.508497\n",
    "y = 49.983889"
   ]
  },
  {
   "cell_type": "code",
   "execution_count": 33,
   "metadata": {},
   "outputs": [
    {
     "data": {
      "text/plain": [
       "(100, 100)"
      ]
     },
     "execution_count": 33,
     "metadata": {},
     "output_type": "execute_result"
    }
   ],
   "source": [
    "patch = get_patch_from_grid(grid, x, y)\n",
    "patch.shape"
   ]
  },
  {
   "cell_type": "code",
   "execution_count": 37,
   "metadata": {},
   "outputs": [
    {
     "data": {
      "text/plain": [
       "(6801, 17402, 17377, 17427, 6776, 6826, 25, 25, 24165, 32198)"
      ]
     },
     "execution_count": 37,
     "metadata": {},
     "output_type": "execute_result"
    }
   ],
   "source": [
    "cx, cy = grid.lonlat2pixel(x, y)\n",
    "patch_size_m = 10000\n",
    "cols = int((patch_size_m / abs(grid.dx))/2)\n",
    "rows = int((patch_size_m / abs(grid.dy))/2)\n",
    "arr = grid.arr\n",
    "y0 = max(cy-rows, 0)\n",
    "y1 = min(cy+rows, arr.shape[0])\n",
    "x0 = max(cx-cols, 0)\n",
    "x1 = min(cx+cols, arr.shape[1])\n",
    "\n",
    "cx, cy, y0, y1, x0, x1, rows, cols, arr.shape[0], arr.shape[1]"
   ]
  },
  {
   "cell_type": "code",
   "execution_count": null,
   "metadata": {},
   "outputs": [],
   "source": [
    "#this will generate 50/50 patches which should equal 10KM (50*200m per item in the array)\n",
    "#patches = extract_patches_2d(grid.arr, (50,50))"
   ]
  },
  {
   "cell_type": "code",
   "execution_count": null,
   "metadata": {},
   "outputs": [],
   "source": []
  }
 ],
 "metadata": {
  "kernelspec": {
   "display_name": "Python 3",
   "language": "python",
   "name": "python3"
  },
  "language_info": {
   "codemirror_mode": {
    "name": "ipython",
    "version": 3
   },
   "file_extension": ".py",
   "mimetype": "text/x-python",
   "name": "python",
   "nbconvert_exporter": "python",
   "pygments_lexer": "ipython3",
   "version": "3.6.5"
  }
 },
 "nbformat": 4,
 "nbformat_minor": 2
}
